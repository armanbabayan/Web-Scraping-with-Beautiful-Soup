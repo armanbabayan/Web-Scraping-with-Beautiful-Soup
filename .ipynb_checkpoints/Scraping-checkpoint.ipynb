{
 "cells": [
  {
   "cell_type": "code",
   "execution_count": 36,
   "metadata": {},
   "outputs": [],
   "source": [
    "import requests\n",
    "from bs4 import BeautifulSoup\n",
    "import pandas as pd\n",
    "import re"
   ]
  },
  {
   "cell_type": "code",
   "execution_count": 37,
   "metadata": {},
   "outputs": [],
   "source": [
    "download_url = \"https://www.estate.am/բնակարաններ-s18212?page=\""
   ]
  },
  {
   "cell_type": "code",
   "execution_count": 38,
   "metadata": {},
   "outputs": [
    {
     "name": "stderr",
     "output_type": "stream",
     "text": [
      "C:\\ProgramData\\Anaconda3\\lib\\site-packages\\bs4\\__init__.py:335: UserWarning: \"https://www.estate.am/բնակարաններ-s18212?page=\" looks like a URL. Beautiful Soup is not an HTTP client. You should probably use an HTTP client like requests to get the document behind the URL, and feed that document to Beautiful Soup.\n",
      "  ' that document to Beautiful Soup.' % decoded_markup\n"
     ]
    }
   ],
   "source": [
    "page = BeautifulSoup(download_url)"
   ]
  },
  {
   "cell_type": "code",
   "execution_count": 39,
   "metadata": {},
   "outputs": [
    {
     "name": "stdout",
     "output_type": "stream",
     "text": [
      "DB rows:  20\n",
      "DB rows:  40\n",
      "DB rows:  60\n",
      "DB rows:  80\n",
      "DB rows:  100\n",
      "DB rows:  120\n",
      "DB rows:  140\n",
      "DB rows:  160\n",
      "DB rows:  180\n",
      "DB rows:  200\n",
      "DB rows:  220\n",
      "DB rows:  240\n",
      "DB rows:  260\n",
      "DB rows:  280\n",
      "DB rows:  300\n",
      "DB rows:  320\n",
      "DB rows:  340\n",
      "DB rows:  360\n",
      "DB rows:  380\n",
      "DB rows:  400\n",
      "DB rows:  420\n",
      "DB rows:  440\n",
      "DB rows:  460\n",
      "DB rows:  480\n",
      "DB rows:  500\n",
      "DB rows:  520\n",
      "DB rows:  540\n",
      "DB rows:  560\n",
      "DB rows:  580\n",
      "DB rows:  600\n",
      "DB rows:  620\n",
      "DB rows:  640\n",
      "DB rows:  660\n",
      "DB rows:  680\n",
      "DB rows:  700\n",
      "DB rows:  720\n",
      "DB rows:  740\n",
      "DB rows:  741\n"
     ]
    }
   ],
   "source": [
    "all_appartment_urls = []\n",
    "count = 0\n",
    "for pages in range(1,10000):\n",
    "    URL = download_url + f'{pages}'\n",
    "    page = requests.get(URL)\n",
    "    soup =  BeautifulSoup(page.content, \"html.parser\")\n",
    "    house_url = soup.find_all('td', class_ = 'last')\n",
    "    if len(house_url) == 0:\n",
    "        break\n",
    "    for house_href in house_url:\n",
    "        get_house_href = house_href.find('a', href = True)\n",
    "        complete_house_urls = 'https://www.estate.am/' + get_house_href['href']\n",
    "        count += 1\n",
    "        all_appartment_urls.append([count,complete_house_urls])\n",
    "    print(\"DB rows: \", len(all_appartment_urls))\n",
    "    url_to_csv = pd.DataFrame(all_appartment_urls, columns = ['row', 'url'])\n",
    "    url_to_csv.to_csv('urls.csv', index = False)"
   ]
  },
  {
   "cell_type": "code",
   "execution_count": 41,
   "metadata": {},
   "outputs": [
    {
     "ename": "AttributeError",
     "evalue": "'NoneType' object has no attribute 'text'",
     "output_type": "error",
     "traceback": [
      "\u001b[1;31m---------------------------------------------------------------------------\u001b[0m",
      "\u001b[1;31mAttributeError\u001b[0m                            Traceback (most recent call last)",
      "\u001b[1;32m<ipython-input-41-0c0693c9d9d9>\u001b[0m in \u001b[0;36m<module>\u001b[1;34m\u001b[0m\n\u001b[0;32m      5\u001b[0m     appartment_db.append(\n\u001b[0;32m      6\u001b[0m     {\n\u001b[1;32m----> 7\u001b[1;33m         \u001b[1;34m'addr'\u001b[0m\u001b[1;33m:\u001b[0m  \u001b[0msoup\u001b[0m\u001b[1;33m.\u001b[0m\u001b[0mfind\u001b[0m\u001b[1;33m(\u001b[0m\u001b[1;34m'strong'\u001b[0m\u001b[1;33m,\u001b[0m \u001b[0mclass_\u001b[0m \u001b[1;33m=\u001b[0m \u001b[1;34m'addr'\u001b[0m\u001b[1;33m)\u001b[0m\u001b[1;33m.\u001b[0m\u001b[0mtext\u001b[0m\u001b[1;33m,\u001b[0m\u001b[1;33m\u001b[0m\u001b[1;33m\u001b[0m\u001b[0m\n\u001b[0m\u001b[0;32m      8\u001b[0m         \u001b[1;34m'ruler'\u001b[0m\u001b[1;33m:\u001b[0m \u001b[0msoup\u001b[0m\u001b[1;33m.\u001b[0m\u001b[0mfind\u001b[0m\u001b[1;33m(\u001b[0m\u001b[1;34m'span'\u001b[0m\u001b[1;33m,\u001b[0m \u001b[0mclass_\u001b[0m \u001b[1;33m=\u001b[0m \u001b[1;34m'ruler'\u001b[0m\u001b[1;33m)\u001b[0m\u001b[1;33m.\u001b[0m\u001b[0mtext\u001b[0m\u001b[1;33m,\u001b[0m\u001b[1;33m\u001b[0m\u001b[1;33m\u001b[0m\u001b[0m\n\u001b[0;32m      9\u001b[0m         \u001b[1;34m'price'\u001b[0m\u001b[1;33m:\u001b[0m \u001b[0mre\u001b[0m\u001b[1;33m.\u001b[0m\u001b[0msub\u001b[0m\u001b[1;33m(\u001b[0m\u001b[1;34m'\\s+'\u001b[0m\u001b[1;33m,\u001b[0m\u001b[1;34m' '\u001b[0m\u001b[1;33m,\u001b[0m\u001b[0msoup\u001b[0m\u001b[1;33m.\u001b[0m\u001b[0mfind\u001b[0m\u001b[1;33m(\u001b[0m\u001b[1;34m'div'\u001b[0m\u001b[1;33m,\u001b[0m \u001b[0mclass_\u001b[0m \u001b[1;33m=\u001b[0m \u001b[1;34m'price-w'\u001b[0m\u001b[1;33m)\u001b[0m\u001b[1;33m.\u001b[0m\u001b[0mtext\u001b[0m\u001b[1;33m)\u001b[0m\u001b[1;33m\u001b[0m\u001b[1;33m\u001b[0m\u001b[0m\n",
      "\u001b[1;31mAttributeError\u001b[0m: 'NoneType' object has no attribute 'text'"
     ]
    }
   ],
   "source": [
    "appartment_db = list()\n",
    "for appartments in url_to_csv.url.tolist():\n",
    "    page = requests.get(appartments)\n",
    "    soup =  BeautifulSoup(page.content, \"html.parser\")\n",
    "    appartment_db.append(\n",
    "    {\n",
    "        'addr':  soup.find('strong', class_ = 'addr').text,\n",
    "        'ruler': soup.find('span', class_ = 'ruler').text,\n",
    "        'price': re.sub('\\s+',' ',soup.find('div', class_ = 'price-w').text)\n",
    "    }\n",
    "    )"
   ]
  },
  {
   "cell_type": "code",
   "execution_count": null,
   "metadata": {},
   "outputs": [],
   "source": [
    "# treading"
   ]
  }
 ],
 "metadata": {
  "kernelspec": {
   "display_name": "Python 3",
   "language": "python",
   "name": "python3"
  },
  "language_info": {
   "codemirror_mode": {
    "name": "ipython",
    "version": 3
   },
   "file_extension": ".py",
   "mimetype": "text/x-python",
   "name": "python",
   "nbconvert_exporter": "python",
   "pygments_lexer": "ipython3",
   "version": "3.8.8"
  }
 },
 "nbformat": 4,
 "nbformat_minor": 2
}
