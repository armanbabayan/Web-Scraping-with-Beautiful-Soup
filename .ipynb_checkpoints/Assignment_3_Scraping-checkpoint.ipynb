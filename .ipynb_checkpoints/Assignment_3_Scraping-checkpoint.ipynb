{
 "cells": [
  {
   "cell_type": "code",
   "execution_count": 1,
   "id": "c715a846",
   "metadata": {},
   "outputs": [],
   "source": [
    "import requests\n",
    "from bs4 import BeautifulSoup\n",
    "import pandas as pd\n",
    "import re\n",
    "import time\n",
    "import numpy as np"
   ]
  },
  {
   "cell_type": "markdown",
   "id": "a6a4d086",
   "metadata": {},
   "source": [
    "# Hotel.am"
   ]
  },
  {
   "cell_type": "code",
   "execution_count": 2,
   "id": "02b26688",
   "metadata": {},
   "outputs": [],
   "source": [
    "download_from_url = \"https://hotel.am/hotels/page/\""
   ]
  },
  {
   "cell_type": "code",
   "execution_count": 3,
   "id": "0a41944a",
   "metadata": {},
   "outputs": [
    {
     "name": "stderr",
     "output_type": "stream",
     "text": [
      "C:\\Users\\user\\anaconda3\\lib\\site-packages\\bs4\\__init__.py:417: MarkupResemblesLocatorWarning: \"https://hotel.am/hotels/page/\" looks like a URL. Beautiful Soup is not an HTTP client. You should probably use an HTTP client like requests to get the document behind the URL, and feed that document to Beautiful Soup.\n",
      "  warnings.warn(\n"
     ]
    }
   ],
   "source": [
    "page = BeautifulSoup(download_from_url)"
   ]
  },
  {
   "cell_type": "code",
   "execution_count": 4,
   "id": "35cce3c8",
   "metadata": {},
   "outputs": [
    {
     "name": "stdout",
     "output_type": "stream",
     "text": [
      "Number of links:  258\n"
     ]
    }
   ],
   "source": [
    "all_hotels_urls = list()\n",
    "count = 0\n",
    "for pages in range(1,19):\n",
    "    URL = download_from_url + f'{pages}'\n",
    "    page = requests.get(URL)\n",
    "    soup = BeautifulSoup(page.content, \"html.parser\")\n",
    "    hotels_url = soup.find_all('div', class_ = 'col-md-3')\n",
    "\n",
    "    if len(hotels_url) == 0:\n",
    "        break\n",
    "    for hotels_href in hotels_url:\n",
    "        get_hotels_href = hotels_href.find('a',href=True)\n",
    "        if get_hotels_href is None:\n",
    "            continue\n",
    "        complete_hotels_urls = get_hotels_href['href']\n",
    "        if complete_hotels_urls == \"/en/hotels\":\n",
    "            continue\n",
    "        count+=1\n",
    "        all_hotels_urls.append([count, complete_hotels_urls])\n",
    "print(\"Number of links: \", len(all_hotels_urls))\n",
    "urls_to_csv = pd.DataFrame(all_hotels_urls, columns=['Index', 'URL'])\n",
    "urls_to_csv.to_csv('hotels_urls.csv', index=False)"
   ]
  },
  {
   "cell_type": "code",
   "execution_count": 5,
   "id": "4dfe1289",
   "metadata": {},
   "outputs": [],
   "source": [
    "# Custom function for getting n-th span\n",
    "def Repeat_function(times):\n",
    "    if time == 0:\n",
    "        return div.find_next('span', class_='factext')\n",
    "    else:\n",
    "        func = \"div.find_next('span', class_='factext')\"\n",
    "        rep_value = \".find_next('span', class_='factext')\"\n",
    "        span = div.find_next('span', class_='factext')\n",
    "        if span is not None:\n",
    "\n",
    "            for _ in range(0+times):\n",
    "                func = func + rep_value\n",
    "        return eval(func)"
   ]
  },
  {
   "cell_type": "code",
   "execution_count": 6,
   "id": "524bc236",
   "metadata": {},
   "outputs": [
    {
     "name": "stdout",
     "output_type": "stream",
     "text": [
      "Observation:  258\n"
     ]
    }
   ],
   "source": [
    "hotels_db = list()\n",
    "count = 0\n",
    "for hotel in urls_to_csv.URL.tolist():\n",
    "    page = requests.get(hotel)\n",
    "    soup = BeautifulSoup(page.content, \"html.parser\")\n",
    "    time.sleep(1.5)\n",
    "    hotels_dict = {\"Hotel name\": soup.find('h1', class_ = 'hoteltitle').text,\n",
    "                    'Min price': soup.find('span', class_='exchange').text,\n",
    "                    'Stars': soup.find('span', class_='starsvalue').text,\n",
    "                    'Chech in/out': soup.find('div', class_='hotelservices').text     \n",
    "                   }\n",
    "    if soup.find('span', class_='grey hnum') is None:\n",
    "        hotels_dict['Comments'] = 0\n",
    "    else:\n",
    "        hotels_dict['Comments'] = soup.find('span', class_='grey hnum').text\n",
    "    \n",
    "    divs = soup.find_all('div', {'class': 'facilities icons'})\n",
    "    for div in divs:\n",
    "        current_span = Repeat_function(0)\n",
    "        for i in range(1,50):\n",
    "            current_span = Repeat_function(i)\n",
    "            if current_span is None:\n",
    "                break\n",
    "            else:\n",
    "                try:\n",
    "                    hotels_dict[current_span.string] = current_span.string\n",
    "                except KeyError:\n",
    "                    print(f\"{current_span} facility is unknown key.\")\n",
    "    hotels_db.append(hotels_dict)\n",
    "    count+=1\n",
    "print('Observation: ', count)\n",
    "hotels = pd.DataFrame(hotels_db)\n",
    "hotels.to_csv('hotels.csv')"
   ]
  },
  {
   "cell_type": "markdown",
   "id": "8cbd6e0b",
   "metadata": {},
   "source": [
    "# Data Cleaning"
   ]
  },
  {
   "cell_type": "code",
   "execution_count": 300,
   "id": "1434b091",
   "metadata": {},
   "outputs": [
    {
     "data": {
      "text/html": [
       "<div>\n",
       "<style scoped>\n",
       "    .dataframe tbody tr th:only-of-type {\n",
       "        vertical-align: middle;\n",
       "    }\n",
       "\n",
       "    .dataframe tbody tr th {\n",
       "        vertical-align: top;\n",
       "    }\n",
       "\n",
       "    .dataframe thead th {\n",
       "        text-align: right;\n",
       "    }\n",
       "</style>\n",
       "<table border=\"1\" class=\"dataframe\">\n",
       "  <thead>\n",
       "    <tr style=\"text-align: right;\">\n",
       "      <th></th>\n",
       "      <th>Unnamed: 0</th>\n",
       "      <th>Hotel name</th>\n",
       "      <th>Min price</th>\n",
       "      <th>Stars</th>\n",
       "      <th>Chech in/out</th>\n",
       "      <th>Comments</th>\n",
       "      <th>TV</th>\n",
       "      <th>Pool</th>\n",
       "      <th>Parking</th>\n",
       "      <th>Wi-Fi</th>\n",
       "      <th>...</th>\n",
       "      <th>Grill/BBQ</th>\n",
       "      <th>Garden</th>\n",
       "      <th>Table tennis</th>\n",
       "      <th>Cottages</th>\n",
       "      <th>Kid's room</th>\n",
       "      <th>FB meal</th>\n",
       "      <th>HB meal</th>\n",
       "      <th>Microwave</th>\n",
       "      <th>Pets allowed</th>\n",
       "      <th>Tennis</th>\n",
       "    </tr>\n",
       "  </thead>\n",
       "  <tbody>\n",
       "    <tr>\n",
       "      <th>0</th>\n",
       "      <td>0</td>\n",
       "      <td>Europe Hotel Artsakh</td>\n",
       "      <td>25000.0</td>\n",
       "      <td>4</td>\n",
       "      <td>Check in: 14:00\\nCheck out: 12:00</td>\n",
       "      <td>0</td>\n",
       "      <td>TV</td>\n",
       "      <td>Pool</td>\n",
       "      <td>Parking</td>\n",
       "      <td>Wi-Fi</td>\n",
       "      <td>...</td>\n",
       "      <td>NaN</td>\n",
       "      <td>NaN</td>\n",
       "      <td>NaN</td>\n",
       "      <td>NaN</td>\n",
       "      <td>NaN</td>\n",
       "      <td>NaN</td>\n",
       "      <td>NaN</td>\n",
       "      <td>NaN</td>\n",
       "      <td>NaN</td>\n",
       "      <td>NaN</td>\n",
       "    </tr>\n",
       "    <tr>\n",
       "      <th>1</th>\n",
       "      <td>1</td>\n",
       "      <td>R &amp; R Ինն Հյուրանոց</td>\n",
       "      <td>14000.0</td>\n",
       "      <td>3</td>\n",
       "      <td>Ժամանում: 14:00\\nՄեկնում: 12:00</td>\n",
       "      <td>0</td>\n",
       "      <td>NaN</td>\n",
       "      <td>NaN</td>\n",
       "      <td>NaN</td>\n",
       "      <td>NaN</td>\n",
       "      <td>...</td>\n",
       "      <td>NaN</td>\n",
       "      <td>NaN</td>\n",
       "      <td>NaN</td>\n",
       "      <td>NaN</td>\n",
       "      <td>NaN</td>\n",
       "      <td>NaN</td>\n",
       "      <td>NaN</td>\n",
       "      <td>NaN</td>\n",
       "      <td>NaN</td>\n",
       "      <td>NaN</td>\n",
       "    </tr>\n",
       "    <tr>\n",
       "      <th>2</th>\n",
       "      <td>2</td>\n",
       "      <td>Ibis Yerevan Center Hotel</td>\n",
       "      <td>NaN</td>\n",
       "      <td>3</td>\n",
       "      <td>Check in: 14:00\\nCheck out: 12:00</td>\n",
       "      <td>0</td>\n",
       "      <td>TV</td>\n",
       "      <td>NaN</td>\n",
       "      <td>Parking</td>\n",
       "      <td>Wi-Fi</td>\n",
       "      <td>...</td>\n",
       "      <td>NaN</td>\n",
       "      <td>NaN</td>\n",
       "      <td>NaN</td>\n",
       "      <td>NaN</td>\n",
       "      <td>NaN</td>\n",
       "      <td>NaN</td>\n",
       "      <td>NaN</td>\n",
       "      <td>NaN</td>\n",
       "      <td>NaN</td>\n",
       "      <td>NaN</td>\n",
       "    </tr>\n",
       "    <tr>\n",
       "      <th>3</th>\n",
       "      <td>3</td>\n",
       "      <td>Aghababyan's Hotel</td>\n",
       "      <td>28900.0</td>\n",
       "      <td>5</td>\n",
       "      <td>Check in: 14:00\\nCheck out: 12:00</td>\n",
       "      <td>3</td>\n",
       "      <td>TV</td>\n",
       "      <td>Pool</td>\n",
       "      <td>Parking</td>\n",
       "      <td>Wi-Fi</td>\n",
       "      <td>...</td>\n",
       "      <td>NaN</td>\n",
       "      <td>NaN</td>\n",
       "      <td>NaN</td>\n",
       "      <td>NaN</td>\n",
       "      <td>NaN</td>\n",
       "      <td>NaN</td>\n",
       "      <td>NaN</td>\n",
       "      <td>NaN</td>\n",
       "      <td>NaN</td>\n",
       "      <td>NaN</td>\n",
       "    </tr>\n",
       "    <tr>\n",
       "      <th>4</th>\n",
       "      <td>4</td>\n",
       "      <td>Yerevan Deluxe Hotel</td>\n",
       "      <td>15000.0</td>\n",
       "      <td>3</td>\n",
       "      <td>Check in: 13:00\\nCheck out: 12:00</td>\n",
       "      <td>0</td>\n",
       "      <td>TV</td>\n",
       "      <td>NaN</td>\n",
       "      <td>Parking</td>\n",
       "      <td>Wi-Fi</td>\n",
       "      <td>...</td>\n",
       "      <td>NaN</td>\n",
       "      <td>NaN</td>\n",
       "      <td>NaN</td>\n",
       "      <td>NaN</td>\n",
       "      <td>NaN</td>\n",
       "      <td>NaN</td>\n",
       "      <td>NaN</td>\n",
       "      <td>NaN</td>\n",
       "      <td>NaN</td>\n",
       "      <td>NaN</td>\n",
       "    </tr>\n",
       "  </tbody>\n",
       "</table>\n",
       "<p>5 rows × 54 columns</p>\n",
       "</div>"
      ],
      "text/plain": [
       "   Unnamed: 0                 Hotel name  Min price  Stars  \\\n",
       "0           0       Europe Hotel Artsakh    25000.0      4   \n",
       "1           1        R & R Ինն Հյուրանոց    14000.0      3   \n",
       "2           2  Ibis Yerevan Center Hotel        NaN      3   \n",
       "3           3         Aghababyan's Hotel    28900.0      5   \n",
       "4           4       Yerevan Deluxe Hotel    15000.0      3   \n",
       "\n",
       "                        Chech in/out  Comments   TV   Pool   Parking   Wi-Fi  \\\n",
       "0  Check in: 14:00\\nCheck out: 12:00         0   TV   Pool   Parking   Wi-Fi   \n",
       "1    Ժամանում: 14:00\\nՄեկնում: 12:00         0  NaN    NaN       NaN     NaN   \n",
       "2  Check in: 14:00\\nCheck out: 12:00         0   TV    NaN   Parking   Wi-Fi   \n",
       "3  Check in: 14:00\\nCheck out: 12:00         3   TV   Pool   Parking   Wi-Fi   \n",
       "4  Check in: 13:00\\nCheck out: 12:00         0   TV    NaN   Parking   Wi-Fi   \n",
       "\n",
       "   ...  Grill/BBQ  Garden  Table tennis  Cottages  Kid's room  FB meal  \\\n",
       "0  ...        NaN     NaN           NaN       NaN         NaN      NaN   \n",
       "1  ...        NaN     NaN           NaN       NaN         NaN      NaN   \n",
       "2  ...        NaN     NaN           NaN       NaN         NaN      NaN   \n",
       "3  ...        NaN     NaN           NaN       NaN         NaN      NaN   \n",
       "4  ...        NaN     NaN           NaN       NaN         NaN      NaN   \n",
       "\n",
       "   HB meal  Microwave  Pets allowed  Tennis  \n",
       "0      NaN        NaN           NaN     NaN  \n",
       "1      NaN        NaN           NaN     NaN  \n",
       "2      NaN        NaN           NaN     NaN  \n",
       "3      NaN        NaN           NaN     NaN  \n",
       "4      NaN        NaN           NaN     NaN  \n",
       "\n",
       "[5 rows x 54 columns]"
      ]
     },
     "execution_count": 300,
     "metadata": {},
     "output_type": "execute_result"
    }
   ],
   "source": [
    "df = pd.read_csv('hotels.csv')\n",
    "df.head()"
   ]
  },
  {
   "cell_type": "code",
   "execution_count": 301,
   "id": "5ec3d80c",
   "metadata": {},
   "outputs": [
    {
     "data": {
      "text/plain": [
       "Index(['Unnamed: 0', 'Hotel name', 'Min price', 'Stars', 'Chech in/out',\n",
       "       'Comments', ' TV', ' Pool', ' Parking', ' Wi-Fi', ' Conference Room',\n",
       "       ' Air Conditioning', ' Breakfast', ' Cafe', ' Jacuzzi', ' Restaurant',\n",
       "       '     TV', '     Ավտոկայանատեղի ', '     Wi-Fi ինտերնետ', '     Ֆեն',\n",
       "       '     Կոնֆերանս Դահլիճ', '     Օդորակիչ', '     Նախաճաշ', '     Սեյֆ',\n",
       "       '     Մինիբար', '     Զգեստապահարան', '     Հեռախոս',\n",
       "       '     Սեղան/Գրասեղան', '    Լողասենյակ ', ' Laundry', ' Room service',\n",
       "       ' Safe', ' Minibar', ' Wardrobe', ' Phone', ' Bathroom', ' Dryer',\n",
       "       ' Playground', ' Fitness', ' Table/Desk', ' Billiards', ' Refrigerator',\n",
       "       ' SPA', ' Kitchen', ' Grill/BBQ', ' Garden', ' Table tennis',\n",
       "       ' Cottages', ' Kid's room', ' FB meal', ' HB meal', ' Microwave',\n",
       "       ' Pets allowed', ' Tennis'],\n",
       "      dtype='object')"
      ]
     },
     "execution_count": 301,
     "metadata": {},
     "output_type": "execute_result"
    }
   ],
   "source": [
    "df.columns"
   ]
  },
  {
   "cell_type": "code",
   "execution_count": 302,
   "id": "c9281991",
   "metadata": {},
   "outputs": [],
   "source": [
    "# There are two TV columns rename one of them then strip all columns\n",
    "df = df.rename(columns={'     TV': 'TV_1'})"
   ]
  },
  {
   "cell_type": "code",
   "execution_count": 303,
   "id": "f706054d",
   "metadata": {},
   "outputs": [
    {
     "data": {
      "text/plain": [
       "Index(['Unnamed: 0', 'Hotel name', 'Min price', 'Stars', 'Chech in/out',\n",
       "       'Comments', 'TV', 'Pool', 'Parking', 'Wi-Fi', 'Conference Room',\n",
       "       'Air Conditioning', 'Breakfast', 'Cafe', 'Jacuzzi', 'Restaurant',\n",
       "       'TV_1', 'Ավտոկայանատեղի', 'Wi-Fi ինտերնետ', 'Ֆեն', 'Կոնֆերանս Դահլիճ',\n",
       "       'Օդորակիչ', 'Նախաճաշ', 'Սեյֆ', 'Մինիբար', 'Զգեստապահարան', 'Հեռախոս',\n",
       "       'Սեղան/Գրասեղան', 'Լողասենյակ', 'Laundry', 'Room service', 'Safe',\n",
       "       'Minibar', 'Wardrobe', 'Phone', 'Bathroom', 'Dryer', 'Playground',\n",
       "       'Fitness', 'Table/Desk', 'Billiards', 'Refrigerator', 'SPA', 'Kitchen',\n",
       "       'Grill/BBQ', 'Garden', 'Table tennis', 'Cottages', 'Kid's room',\n",
       "       'FB meal', 'HB meal', 'Microwave', 'Pets allowed', 'Tennis'],\n",
       "      dtype='object')"
      ]
     },
     "execution_count": 303,
     "metadata": {},
     "output_type": "execute_result"
    }
   ],
   "source": [
    "# There are whitespaces in column names. Remove that\n",
    "df.columns = df.columns.str.strip()\n",
    "df.columns"
   ]
  },
  {
   "cell_type": "code",
   "execution_count": 304,
   "id": "910cb551",
   "metadata": {},
   "outputs": [],
   "source": [
    "# Drop non informative columns\n",
    "df.drop('Unnamed: 0', axis  = 1, inplace = True)"
   ]
  },
  {
   "cell_type": "code",
   "execution_count": 305,
   "id": "58042f9f",
   "metadata": {},
   "outputs": [],
   "source": [
    "# There are columns that contain the same information in different languages \n",
    "# I'll transfer info from armenian column to english, then I'll remove Armenian column"
   ]
  },
  {
   "cell_type": "code",
   "execution_count": 306,
   "id": "d877808d",
   "metadata": {},
   "outputs": [],
   "source": [
    "# function for replacement\n",
    "def replace_value(x,value: str):\n",
    "    if not pd.isnull(x):\n",
    "        return value\n",
    "    else:\n",
    "        return value"
   ]
  },
  {
   "cell_type": "code",
   "execution_count": 307,
   "id": "1af7fdf5",
   "metadata": {},
   "outputs": [],
   "source": [
    "# replace values\n",
    "df['Parking'] = df['Ավտոկայանատեղի'].apply(replace_value,  args=('Parking',))\n",
    "df['Wi-Fi'] = df['Wi-Fi ինտերնետ'].apply(replace_value,  args=('Wi-Fi',))\n",
    "df['Dryer'] = df['Ֆեն'].apply(replace_value,  args=('Dryer',))\n",
    "df['Conference Room'] = df['Կոնֆերանս Դահլիճ'].apply(replace_value,  args=('Conference Room',))\n",
    "df['Air Conditioning'] = df['Օդորակիչ'].apply(replace_value,  args=('Air Conditioning',))\n",
    "df['Breakfast'] = df['Նախաճաշ'].apply(replace_value,  args=('Breakfast',))\n",
    "df['Safe'] = df['Սեյֆ'].apply(replace_value,  args=('Safe',))\n",
    "df['Minibar'] = df['Մինիբար'].apply(replace_value,  args=('Minibar',))\n",
    "df['Wardrobe'] = df['Զգեստապահարան'].apply(replace_value,  args=('Wardrobe',))\n",
    "df['Phone'] = df['Հեռախոս'].apply(replace_value,  args=('Phone',))\n",
    "df['Table/Desk'] = df['Սեղան/Գրասեղան'].apply(replace_value,  args=('Table/Desk',))\n",
    "df['Bathroom'] = df['Լողասենյակ'].apply(replace_value,  args=('Bathroom',))\n",
    "df['TV'] = df['TV_1'].apply(replace_value,  args=('TV',))"
   ]
  },
  {
   "cell_type": "code",
   "execution_count": 308,
   "id": "46d4ffdf",
   "metadata": {},
   "outputs": [
    {
     "data": {
      "text/plain": [
       "(258, 39)"
      ]
     },
     "execution_count": 308,
     "metadata": {},
     "output_type": "execute_result"
    }
   ],
   "source": [
    "# Drop unnecessary columns\n",
    "col_drop = ['TV', 'Ավտոկայանատեղի','Wi-Fi ինտերնետ', 'Ֆեն', 'Կոնֆերանս Դահլիճ', 'Օդորակիչ', 'Նախաճաշ',\n",
    "            'Սեյֆ', 'Մինիբար', 'Զգեստապահարան', 'Հեռախոս', 'Սեղան/Գրասեղան','Լողասենյակ','TV_1']\n",
    "\n",
    "df = df[df.columns.difference(col_drop)]\n",
    "df.shape"
   ]
  },
  {
   "cell_type": "code",
   "execution_count": 309,
   "id": "9942bc68",
   "metadata": {},
   "outputs": [
    {
     "data": {
      "text/plain": [
       "Air Conditioning      0\n",
       "Bathroom              0\n",
       "Billiards           203\n",
       "Breakfast             0\n",
       "Cafe                188\n",
       "Chech in/out          0\n",
       "Comments              0\n",
       "Conference Room       0\n",
       "Cottages            245\n",
       "Dryer                 0\n",
       "FB meal             212\n",
       "Fitness             210\n",
       "Garden              193\n",
       "Grill/BBQ           210\n",
       "HB meal             235\n",
       "Hotel name            0\n",
       "Jacuzzi             232\n",
       "Kid's room          229\n",
       "Kitchen             224\n",
       "Laundry             183\n",
       "Microwave           256\n",
       "Min price             2\n",
       "Minibar               0\n",
       "Parking               0\n",
       "Pets allowed        247\n",
       "Phone                 0\n",
       "Playground          165\n",
       "Pool                167\n",
       "Refrigerator        201\n",
       "Restaurant          139\n",
       "Room service        146\n",
       "SPA                 220\n",
       "Safe                  0\n",
       "Stars                 0\n",
       "Table tennis        208\n",
       "Table/Desk            0\n",
       "Tennis              249\n",
       "Wardrobe              0\n",
       "Wi-Fi                 0\n",
       "dtype: int64"
      ]
     },
     "execution_count": 309,
     "metadata": {},
     "output_type": "execute_result"
    }
   ],
   "source": [
    "# check for missing values\n",
    "df.isna().sum()"
   ]
  },
  {
   "cell_type": "code",
   "execution_count": 310,
   "id": "44596ae0",
   "metadata": {},
   "outputs": [
    {
     "data": {
      "text/plain": [
       "array([dtype('O'), dtype('int64'), dtype('float64')], dtype=object)"
      ]
     },
     "execution_count": 310,
     "metadata": {},
     "output_type": "execute_result"
    }
   ],
   "source": [
    "# data types in the data set\n",
    "dtypes = pd.DataFrame(df.dtypes,columns=[\"Data Types\"])\n",
    "dtypes[\"Data Types\"].unique()"
   ]
  },
  {
   "cell_type": "code",
   "execution_count": 311,
   "id": "6502e60c",
   "metadata": {},
   "outputs": [
    {
     "name": "stdout",
     "output_type": "stream",
     "text": [
      "<class 'pandas.core.frame.DataFrame'>\n",
      "RangeIndex: 258 entries, 0 to 257\n",
      "Data columns (total 39 columns):\n",
      " #   Column            Non-Null Count  Dtype  \n",
      "---  ------            --------------  -----  \n",
      " 0   Air Conditioning  258 non-null    object \n",
      " 1   Bathroom          258 non-null    object \n",
      " 2   Billiards         55 non-null     object \n",
      " 3   Breakfast         258 non-null    object \n",
      " 4   Cafe              70 non-null     object \n",
      " 5   Chech in/out      258 non-null    object \n",
      " 6   Comments          258 non-null    int64  \n",
      " 7   Conference Room   258 non-null    object \n",
      " 8   Cottages          13 non-null     object \n",
      " 9   Dryer             258 non-null    object \n",
      " 10  FB meal           46 non-null     object \n",
      " 11  Fitness           48 non-null     object \n",
      " 12  Garden            65 non-null     object \n",
      " 13  Grill/BBQ         48 non-null     object \n",
      " 14  HB meal           23 non-null     object \n",
      " 15  Hotel name        258 non-null    object \n",
      " 16  Jacuzzi           26 non-null     object \n",
      " 17  Kid's room        29 non-null     object \n",
      " 18  Kitchen           34 non-null     object \n",
      " 19  Laundry           75 non-null     object \n",
      " 20  Microwave         2 non-null      object \n",
      " 21  Min price         256 non-null    float64\n",
      " 22  Minibar           258 non-null    object \n",
      " 23  Parking           258 non-null    object \n",
      " 24  Pets allowed      11 non-null     object \n",
      " 25  Phone             258 non-null    object \n",
      " 26  Playground        93 non-null     object \n",
      " 27  Pool              91 non-null     object \n",
      " 28  Refrigerator      57 non-null     object \n",
      " 29  Restaurant        119 non-null    object \n",
      " 30  Room service      112 non-null    object \n",
      " 31  SPA               38 non-null     object \n",
      " 32  Safe              258 non-null    object \n",
      " 33  Stars             258 non-null    int64  \n",
      " 34  Table tennis      50 non-null     object \n",
      " 35  Table/Desk        258 non-null    object \n",
      " 36  Tennis            9 non-null      object \n",
      " 37  Wardrobe          258 non-null    object \n",
      " 38  Wi-Fi             258 non-null    object \n",
      "dtypes: float64(1), int64(2), object(36)\n",
      "memory usage: 78.7+ KB\n"
     ]
    }
   ],
   "source": [
    "# df info\n",
    "df.info()"
   ]
  },
  {
   "cell_type": "code",
   "execution_count": 312,
   "id": "d935e2a6",
   "metadata": {},
   "outputs": [],
   "source": [
    "# select all column with dtype 'Object'\n",
    "object_columns = []\n",
    "for column in df:\n",
    "    if df[column].dtypes == 'object':\n",
    "        object_columns.append(column)"
   ]
  },
  {
   "cell_type": "code",
   "execution_count": 313,
   "id": "1abd8e82",
   "metadata": {},
   "outputs": [],
   "source": [
    "# select only \"object\" columns and replace all missing values with \"not available\"\n",
    "df[object_columns] = df[object_columns].fillna('not available')"
   ]
  },
  {
   "cell_type": "code",
   "execution_count": 314,
   "id": "c0bf8c7e",
   "metadata": {},
   "outputs": [
    {
     "data": {
      "text/plain": [
       "Comments     0\n",
       "Min price    2\n",
       "Stars        0\n",
       "dtype: int64"
      ]
     },
     "execution_count": 314,
     "metadata": {},
     "output_type": "execute_result"
    }
   ],
   "source": [
    "# In numeric columns there are two missing values. I' will remove that rows from data set\n",
    "df[['Comments','Min price','Stars']].isna().sum()"
   ]
  },
  {
   "cell_type": "code",
   "execution_count": 315,
   "id": "55cb2f62",
   "metadata": {},
   "outputs": [
    {
     "name": "stdout",
     "output_type": "stream",
     "text": [
      "Shape of data before removing missing values: (258, 39)\n",
      "Shape of data after removing missing values: (256, 39)\n"
     ]
    }
   ],
   "source": [
    "print(f\"Shape of data before removing missing values: {df.shape}\")\n",
    "df.dropna(inplace = True)\n",
    "print(f\"Shape of data after removing missing values: {df.shape}\")"
   ]
  },
  {
   "cell_type": "code",
   "execution_count": 318,
   "id": "c6f87825",
   "metadata": {},
   "outputs": [],
   "source": [
    "# There is \"Chech in/out\" column in the data that contains two differenc information abot the time of chek in and check out\n",
    "# Split them and creat two new column from that column\n",
    "# After that I'll remove column  \"Chech in/out\""
   ]
  },
  {
   "cell_type": "code",
   "execution_count": 319,
   "id": "02bc13d7",
   "metadata": {},
   "outputs": [],
   "source": [
    "df['Chech in'] =  df['Chech in/out'].apply(lambda x: x.split('\\n')[0].split(': ')[1].strip())\n",
    "df['Chech out'] =  df['Chech in/out'].apply(lambda x: x.split('\\n')[1].split(': ')[1].strip())"
   ]
  },
  {
   "cell_type": "code",
   "execution_count": 320,
   "id": "25bbcff8",
   "metadata": {},
   "outputs": [
    {
     "data": {
      "text/plain": [
       "Chech in     object\n",
       "Chech out    object\n",
       "dtype: object"
      ]
     },
     "execution_count": 320,
     "metadata": {},
     "output_type": "execute_result"
    }
   ],
   "source": [
    "df[['Chech in','Chech out']].dtypes"
   ]
  },
  {
   "cell_type": "code",
   "execution_count": 321,
   "id": "05b483d1",
   "metadata": {},
   "outputs": [],
   "source": [
    "# Converting  \"Chech in\" and \"Chech out\"  from object to datetime\n",
    "df[\"Chech in\"]=pd.to_datetime(df[\"Chech in\"])\n",
    "df[\"Chech out\"]=pd.to_datetime(df[\"Chech out\"])"
   ]
  },
  {
   "cell_type": "code",
   "execution_count": 322,
   "id": "47f82464",
   "metadata": {},
   "outputs": [
    {
     "data": {
      "text/plain": [
       "Chech in     datetime64[ns]\n",
       "Chech out    datetime64[ns]\n",
       "dtype: object"
      ]
     },
     "execution_count": 322,
     "metadata": {},
     "output_type": "execute_result"
    }
   ],
   "source": [
    "df[['Chech in','Chech out']].dtypes"
   ]
  },
  {
   "cell_type": "code",
   "execution_count": 323,
   "id": "6d3e1a7e",
   "metadata": {},
   "outputs": [],
   "source": [
    "# drop column 'Chech in/out' \n",
    "df.drop('Chech in/out', axis = 1, inplace = True)"
   ]
  },
  {
   "cell_type": "code",
   "execution_count": 324,
   "id": "834b7bf6",
   "metadata": {},
   "outputs": [
    {
     "data": {
      "text/plain": [
       "Air Conditioning    0\n",
       "Bathroom            0\n",
       "Billiards           0\n",
       "Breakfast           0\n",
       "Cafe                0\n",
       "Comments            0\n",
       "Conference Room     0\n",
       "Cottages            0\n",
       "Dryer               0\n",
       "FB meal             0\n",
       "Fitness             0\n",
       "Garden              0\n",
       "Grill/BBQ           0\n",
       "HB meal             0\n",
       "Hotel name          0\n",
       "Jacuzzi             0\n",
       "Kid's room          0\n",
       "Kitchen             0\n",
       "Laundry             0\n",
       "Microwave           0\n",
       "Min price           0\n",
       "Minibar             0\n",
       "Parking             0\n",
       "Pets allowed        0\n",
       "Phone               0\n",
       "Playground          0\n",
       "Pool                0\n",
       "Refrigerator        0\n",
       "Restaurant          0\n",
       "Room service        0\n",
       "SPA                 0\n",
       "Safe                0\n",
       "Stars               0\n",
       "Table tennis        0\n",
       "Table/Desk          0\n",
       "Tennis              0\n",
       "Wardrobe            0\n",
       "Wi-Fi               0\n",
       "Chech in            0\n",
       "Chech out           0\n",
       "dtype: int64"
      ]
     },
     "execution_count": 324,
     "metadata": {},
     "output_type": "execute_result"
    }
   ],
   "source": [
    "# check for missing values\n",
    "df.isna().sum()"
   ]
  },
  {
   "cell_type": "code",
   "execution_count": 325,
   "id": "cf7f1495",
   "metadata": {},
   "outputs": [
    {
     "name": "stdout",
     "output_type": "stream",
     "text": [
      "<class 'pandas.core.frame.DataFrame'>\n",
      "Int64Index: 256 entries, 0 to 257\n",
      "Data columns (total 40 columns):\n",
      " #   Column            Non-Null Count  Dtype         \n",
      "---  ------            --------------  -----         \n",
      " 0   Air Conditioning  256 non-null    object        \n",
      " 1   Bathroom          256 non-null    object        \n",
      " 2   Billiards         256 non-null    object        \n",
      " 3   Breakfast         256 non-null    object        \n",
      " 4   Cafe              256 non-null    object        \n",
      " 5   Comments          256 non-null    int64         \n",
      " 6   Conference Room   256 non-null    object        \n",
      " 7   Cottages          256 non-null    object        \n",
      " 8   Dryer             256 non-null    object        \n",
      " 9   FB meal           256 non-null    object        \n",
      " 10  Fitness           256 non-null    object        \n",
      " 11  Garden            256 non-null    object        \n",
      " 12  Grill/BBQ         256 non-null    object        \n",
      " 13  HB meal           256 non-null    object        \n",
      " 14  Hotel name        256 non-null    object        \n",
      " 15  Jacuzzi           256 non-null    object        \n",
      " 16  Kid's room        256 non-null    object        \n",
      " 17  Kitchen           256 non-null    object        \n",
      " 18  Laundry           256 non-null    object        \n",
      " 19  Microwave         256 non-null    object        \n",
      " 20  Min price         256 non-null    float64       \n",
      " 21  Minibar           256 non-null    object        \n",
      " 22  Parking           256 non-null    object        \n",
      " 23  Pets allowed      256 non-null    object        \n",
      " 24  Phone             256 non-null    object        \n",
      " 25  Playground        256 non-null    object        \n",
      " 26  Pool              256 non-null    object        \n",
      " 27  Refrigerator      256 non-null    object        \n",
      " 28  Restaurant        256 non-null    object        \n",
      " 29  Room service      256 non-null    object        \n",
      " 30  SPA               256 non-null    object        \n",
      " 31  Safe              256 non-null    object        \n",
      " 32  Stars             256 non-null    int64         \n",
      " 33  Table tennis      256 non-null    object        \n",
      " 34  Table/Desk        256 non-null    object        \n",
      " 35  Tennis            256 non-null    object        \n",
      " 36  Wardrobe          256 non-null    object        \n",
      " 37  Wi-Fi             256 non-null    object        \n",
      " 38  Chech in          256 non-null    datetime64[ns]\n",
      " 39  Chech out         256 non-null    datetime64[ns]\n",
      "dtypes: datetime64[ns](2), float64(1), int64(2), object(35)\n",
      "memory usage: 82.0+ KB\n"
     ]
    }
   ],
   "source": [
    "df.info()"
   ]
  },
  {
   "cell_type": "code",
   "execution_count": 326,
   "id": "45dd1e9c",
   "metadata": {},
   "outputs": [
    {
     "data": {
      "text/html": [
       "<div>\n",
       "<style scoped>\n",
       "    .dataframe tbody tr th:only-of-type {\n",
       "        vertical-align: middle;\n",
       "    }\n",
       "\n",
       "    .dataframe tbody tr th {\n",
       "        vertical-align: top;\n",
       "    }\n",
       "\n",
       "    .dataframe thead th {\n",
       "        text-align: right;\n",
       "    }\n",
       "</style>\n",
       "<table border=\"1\" class=\"dataframe\">\n",
       "  <thead>\n",
       "    <tr style=\"text-align: right;\">\n",
       "      <th></th>\n",
       "      <th>Air Conditioning</th>\n",
       "      <th>Bathroom</th>\n",
       "      <th>Billiards</th>\n",
       "      <th>Breakfast</th>\n",
       "      <th>Cafe</th>\n",
       "      <th>Comments</th>\n",
       "      <th>Conference Room</th>\n",
       "      <th>Cottages</th>\n",
       "      <th>Dryer</th>\n",
       "      <th>FB meal</th>\n",
       "      <th>...</th>\n",
       "      <th>SPA</th>\n",
       "      <th>Safe</th>\n",
       "      <th>Stars</th>\n",
       "      <th>Table tennis</th>\n",
       "      <th>Table/Desk</th>\n",
       "      <th>Tennis</th>\n",
       "      <th>Wardrobe</th>\n",
       "      <th>Wi-Fi</th>\n",
       "      <th>Chech in</th>\n",
       "      <th>Chech out</th>\n",
       "    </tr>\n",
       "  </thead>\n",
       "  <tbody>\n",
       "    <tr>\n",
       "      <th>0</th>\n",
       "      <td>Air Conditioning</td>\n",
       "      <td>Bathroom</td>\n",
       "      <td>not available</td>\n",
       "      <td>Breakfast</td>\n",
       "      <td>Cafe</td>\n",
       "      <td>0</td>\n",
       "      <td>Conference Room</td>\n",
       "      <td>not available</td>\n",
       "      <td>Dryer</td>\n",
       "      <td>not available</td>\n",
       "      <td>...</td>\n",
       "      <td>not available</td>\n",
       "      <td>Safe</td>\n",
       "      <td>4</td>\n",
       "      <td>not available</td>\n",
       "      <td>Table/Desk</td>\n",
       "      <td>not available</td>\n",
       "      <td>Wardrobe</td>\n",
       "      <td>Wi-Fi</td>\n",
       "      <td>2022-05-02 14:00:00</td>\n",
       "      <td>2022-05-02 12:00:00</td>\n",
       "    </tr>\n",
       "    <tr>\n",
       "      <th>1</th>\n",
       "      <td>Air Conditioning</td>\n",
       "      <td>Bathroom</td>\n",
       "      <td>not available</td>\n",
       "      <td>Breakfast</td>\n",
       "      <td>not available</td>\n",
       "      <td>0</td>\n",
       "      <td>Conference Room</td>\n",
       "      <td>not available</td>\n",
       "      <td>Dryer</td>\n",
       "      <td>not available</td>\n",
       "      <td>...</td>\n",
       "      <td>not available</td>\n",
       "      <td>Safe</td>\n",
       "      <td>3</td>\n",
       "      <td>not available</td>\n",
       "      <td>Table/Desk</td>\n",
       "      <td>not available</td>\n",
       "      <td>Wardrobe</td>\n",
       "      <td>Wi-Fi</td>\n",
       "      <td>2022-05-02 14:00:00</td>\n",
       "      <td>2022-05-02 12:00:00</td>\n",
       "    </tr>\n",
       "    <tr>\n",
       "      <th>3</th>\n",
       "      <td>Air Conditioning</td>\n",
       "      <td>Bathroom</td>\n",
       "      <td>Billiards</td>\n",
       "      <td>Breakfast</td>\n",
       "      <td>Cafe</td>\n",
       "      <td>3</td>\n",
       "      <td>Conference Room</td>\n",
       "      <td>not available</td>\n",
       "      <td>Dryer</td>\n",
       "      <td>not available</td>\n",
       "      <td>...</td>\n",
       "      <td>not available</td>\n",
       "      <td>Safe</td>\n",
       "      <td>5</td>\n",
       "      <td>not available</td>\n",
       "      <td>Table/Desk</td>\n",
       "      <td>not available</td>\n",
       "      <td>Wardrobe</td>\n",
       "      <td>Wi-Fi</td>\n",
       "      <td>2022-05-02 14:00:00</td>\n",
       "      <td>2022-05-02 12:00:00</td>\n",
       "    </tr>\n",
       "    <tr>\n",
       "      <th>4</th>\n",
       "      <td>Air Conditioning</td>\n",
       "      <td>Bathroom</td>\n",
       "      <td>not available</td>\n",
       "      <td>Breakfast</td>\n",
       "      <td>not available</td>\n",
       "      <td>0</td>\n",
       "      <td>Conference Room</td>\n",
       "      <td>not available</td>\n",
       "      <td>Dryer</td>\n",
       "      <td>not available</td>\n",
       "      <td>...</td>\n",
       "      <td>not available</td>\n",
       "      <td>Safe</td>\n",
       "      <td>3</td>\n",
       "      <td>not available</td>\n",
       "      <td>Table/Desk</td>\n",
       "      <td>not available</td>\n",
       "      <td>Wardrobe</td>\n",
       "      <td>Wi-Fi</td>\n",
       "      <td>2022-05-02 13:00:00</td>\n",
       "      <td>2022-05-02 12:00:00</td>\n",
       "    </tr>\n",
       "    <tr>\n",
       "      <th>5</th>\n",
       "      <td>Air Conditioning</td>\n",
       "      <td>Bathroom</td>\n",
       "      <td>not available</td>\n",
       "      <td>Breakfast</td>\n",
       "      <td>Cafe</td>\n",
       "      <td>0</td>\n",
       "      <td>Conference Room</td>\n",
       "      <td>not available</td>\n",
       "      <td>Dryer</td>\n",
       "      <td>not available</td>\n",
       "      <td>...</td>\n",
       "      <td>not available</td>\n",
       "      <td>Safe</td>\n",
       "      <td>3</td>\n",
       "      <td>not available</td>\n",
       "      <td>Table/Desk</td>\n",
       "      <td>not available</td>\n",
       "      <td>Wardrobe</td>\n",
       "      <td>Wi-Fi</td>\n",
       "      <td>2022-05-02 14:00:00</td>\n",
       "      <td>2022-05-02 12:00:00</td>\n",
       "    </tr>\n",
       "  </tbody>\n",
       "</table>\n",
       "<p>5 rows × 40 columns</p>\n",
       "</div>"
      ],
      "text/plain": [
       "   Air Conditioning  Bathroom      Billiards  Breakfast           Cafe  \\\n",
       "0  Air Conditioning  Bathroom  not available  Breakfast           Cafe   \n",
       "1  Air Conditioning  Bathroom  not available  Breakfast  not available   \n",
       "3  Air Conditioning  Bathroom      Billiards  Breakfast           Cafe   \n",
       "4  Air Conditioning  Bathroom  not available  Breakfast  not available   \n",
       "5  Air Conditioning  Bathroom  not available  Breakfast           Cafe   \n",
       "\n",
       "   Comments  Conference Room       Cottages  Dryer        FB meal  ...  \\\n",
       "0         0  Conference Room  not available  Dryer  not available  ...   \n",
       "1         0  Conference Room  not available  Dryer  not available  ...   \n",
       "3         3  Conference Room  not available  Dryer  not available  ...   \n",
       "4         0  Conference Room  not available  Dryer  not available  ...   \n",
       "5         0  Conference Room  not available  Dryer  not available  ...   \n",
       "\n",
       "             SPA  Safe Stars   Table tennis  Table/Desk         Tennis  \\\n",
       "0  not available  Safe     4  not available  Table/Desk  not available   \n",
       "1  not available  Safe     3  not available  Table/Desk  not available   \n",
       "3  not available  Safe     5  not available  Table/Desk  not available   \n",
       "4  not available  Safe     3  not available  Table/Desk  not available   \n",
       "5  not available  Safe     3  not available  Table/Desk  not available   \n",
       "\n",
       "   Wardrobe  Wi-Fi            Chech in           Chech out  \n",
       "0  Wardrobe  Wi-Fi 2022-05-02 14:00:00 2022-05-02 12:00:00  \n",
       "1  Wardrobe  Wi-Fi 2022-05-02 14:00:00 2022-05-02 12:00:00  \n",
       "3  Wardrobe  Wi-Fi 2022-05-02 14:00:00 2022-05-02 12:00:00  \n",
       "4  Wardrobe  Wi-Fi 2022-05-02 13:00:00 2022-05-02 12:00:00  \n",
       "5  Wardrobe  Wi-Fi 2022-05-02 14:00:00 2022-05-02 12:00:00  \n",
       "\n",
       "[5 rows x 40 columns]"
      ]
     },
     "execution_count": 326,
     "metadata": {},
     "output_type": "execute_result"
    }
   ],
   "source": [
    "df.head()"
   ]
  },
  {
   "cell_type": "code",
   "execution_count": 328,
   "id": "0764ec8b",
   "metadata": {},
   "outputs": [
    {
     "data": {
      "text/plain": [
       "(256, 40)"
      ]
     },
     "execution_count": 328,
     "metadata": {},
     "output_type": "execute_result"
    }
   ],
   "source": [
    "df.shape"
   ]
  },
  {
   "cell_type": "markdown",
   "id": "56030672",
   "metadata": {},
   "source": [
    "#### After data cleaning process we lost only two observations. From 258 instances the data becomes 256. Now our data does not have any missing values and all columns are in corresponding data types."
   ]
  },
  {
   "cell_type": "code",
   "execution_count": null,
   "id": "e49d2a38",
   "metadata": {},
   "outputs": [],
   "source": []
  }
 ],
 "metadata": {
  "kernelspec": {
   "display_name": "Python 3",
   "language": "python",
   "name": "python3"
  },
  "language_info": {
   "codemirror_mode": {
    "name": "ipython",
    "version": 3
   },
   "file_extension": ".py",
   "mimetype": "text/x-python",
   "name": "python",
   "nbconvert_exporter": "python",
   "pygments_lexer": "ipython3",
   "version": "3.8.8"
  }
 },
 "nbformat": 4,
 "nbformat_minor": 5
}
